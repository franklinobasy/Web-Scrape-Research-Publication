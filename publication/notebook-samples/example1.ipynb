{
 "cells": [
  {
   "attachments": {},
   "cell_type": "markdown",
   "metadata": {},
   "source": [
    "Import Libraries"
   ]
  },
  {
   "cell_type": "code",
   "execution_count": 1,
   "metadata": {},
   "outputs": [],
   "source": [
    "\n",
    "import sys\n",
    " \n",
    "# setting path\n",
    "sys.path.append('../../publication/')\n",
    "\n",
    "from extract import Extract\n",
    "from transform import convert_to_dataframe\n",
    "from load import create_connection, dataframe_to_database, shutdown_connection"
   ]
  },
  {
   "attachments": {},
   "cell_type": "markdown",
   "metadata": {},
   "source": [
    "Extract from website"
   ]
  },
  {
   "cell_type": "code",
   "execution_count": 2,
   "metadata": {},
   "outputs": [
    {
     "name": "stdout",
     "output_type": "stream",
     "text": [
      "result saved in example1.json\n"
     ]
    }
   ],
   "source": [
    "extraction = Extract()\n",
    "extraction.run()\n",
    "\n",
    "# export json file\n",
    "path = r'example1.json'\n",
    "extraction.result_tojson(path)\n",
    "print(f'result saved in {path}')"
   ]
  },
  {
   "attachments": {},
   "cell_type": "markdown",
   "metadata": {},
   "source": [
    "Load file to dataframe"
   ]
  },
  {
   "cell_type": "code",
   "execution_count": 3,
   "metadata": {},
   "outputs": [
    {
     "data": {
      "text/html": [
       "<div>\n",
       "<style scoped>\n",
       "    .dataframe tbody tr th:only-of-type {\n",
       "        vertical-align: middle;\n",
       "    }\n",
       "\n",
       "    .dataframe tbody tr th {\n",
       "        vertical-align: top;\n",
       "    }\n",
       "\n",
       "    .dataframe thead th {\n",
       "        text-align: right;\n",
       "    }\n",
       "</style>\n",
       "<table border=\"1\" class=\"dataframe\">\n",
       "  <thead>\n",
       "    <tr style=\"text-align: right;\">\n",
       "      <th></th>\n",
       "      <th>publication</th>\n",
       "      <th>publication_link</th>\n",
       "      <th>author_1</th>\n",
       "      <th>author_1_profile</th>\n",
       "      <th>author_2</th>\n",
       "      <th>author_2_profile</th>\n",
       "      <th>author_3</th>\n",
       "      <th>author_3_profile</th>\n",
       "      <th>author_4</th>\n",
       "      <th>author_4_profile</th>\n",
       "      <th>author_5</th>\n",
       "      <th>author_5_profile</th>\n",
       "      <th>author_6</th>\n",
       "      <th>author_6_profile</th>\n",
       "      <th>author_7</th>\n",
       "      <th>author_7_profile</th>\n",
       "      <th>author_8</th>\n",
       "      <th>author_8_profile</th>\n",
       "      <th>author_9</th>\n",
       "      <th>author_9_profile</th>\n",
       "    </tr>\n",
       "  </thead>\n",
       "  <tbody>\n",
       "    <tr>\n",
       "      <th>0</th>\n",
       "      <td>Competing Institutional Logics and Power Dynam...</td>\n",
       "      <td>https://pureportal.coventry.ac.uk/en/publicati...</td>\n",
       "      <td>Abras, A.</td>\n",
       "      <td>None</td>\n",
       "      <td>Jayasinghe, K.</td>\n",
       "      <td>None</td>\n",
       "      <td>NaN</td>\n",
       "      <td>NaN</td>\n",
       "      <td>NaN</td>\n",
       "      <td>NaN</td>\n",
       "      <td>NaN</td>\n",
       "      <td>NaN</td>\n",
       "      <td>NaN</td>\n",
       "      <td>NaN</td>\n",
       "      <td>NaN</td>\n",
       "      <td>NaN</td>\n",
       "      <td>NaN</td>\n",
       "      <td>NaN</td>\n",
       "      <td>NaN</td>\n",
       "      <td>NaN</td>\n",
       "    </tr>\n",
       "    <tr>\n",
       "      <th>1</th>\n",
       "      <td>Corporate Political Activity and Bribery in Af...</td>\n",
       "      <td>https://pureportal.coventry.ac.uk/en/publicati...</td>\n",
       "      <td>Aghanya, D.</td>\n",
       "      <td>https://pureportal.coventry.ac.uk/en/persons/d...</td>\n",
       "      <td>Liedong, T.</td>\n",
       "      <td>None</td>\n",
       "      <td>Jimenez, A.</td>\n",
       "      <td>None</td>\n",
       "      <td>Rajwani, T.</td>\n",
       "      <td>NaN</td>\n",
       "      <td>NaN</td>\n",
       "      <td>NaN</td>\n",
       "      <td>NaN</td>\n",
       "      <td>NaN</td>\n",
       "      <td>NaN</td>\n",
       "      <td>NaN</td>\n",
       "      <td>NaN</td>\n",
       "      <td>NaN</td>\n",
       "      <td>NaN</td>\n",
       "      <td>NaN</td>\n",
       "    </tr>\n",
       "    <tr>\n",
       "      <th>2</th>\n",
       "      <td>Does natural resource curse in finance exist i...</td>\n",
       "      <td>https://pureportal.coventry.ac.uk/en/publicati...</td>\n",
       "      <td>Egbulonu, A.</td>\n",
       "      <td>https://pureportal.coventry.ac.uk/en/persons/a...</td>\n",
       "      <td>Nurmakhanova, M.</td>\n",
       "      <td>None</td>\n",
       "      <td>Elheddad, M.</td>\n",
       "      <td>None</td>\n",
       "      <td>Alfar, A. J. K.</td>\n",
       "      <td>NaN</td>\n",
       "      <td>Abedin, M.</td>\n",
       "      <td>NaN</td>\n",
       "      <td>NaN</td>\n",
       "      <td>NaN</td>\n",
       "      <td>NaN</td>\n",
       "      <td>NaN</td>\n",
       "      <td>NaN</td>\n",
       "      <td>NaN</td>\n",
       "      <td>NaN</td>\n",
       "      <td>NaN</td>\n",
       "    </tr>\n",
       "    <tr>\n",
       "      <th>3</th>\n",
       "      <td>Performance measurement in urban development: ...</td>\n",
       "      <td>https://pureportal.coventry.ac.uk/en/publicati...</td>\n",
       "      <td>Alsaid, L.</td>\n",
       "      <td>https://pureportal.coventry.ac.uk/en/persons/l...</td>\n",
       "      <td>Ambilichu, C.</td>\n",
       "      <td>None</td>\n",
       "      <td>NaN</td>\n",
       "      <td>NaN</td>\n",
       "      <td>NaN</td>\n",
       "      <td>NaN</td>\n",
       "      <td>NaN</td>\n",
       "      <td>NaN</td>\n",
       "      <td>NaN</td>\n",
       "      <td>NaN</td>\n",
       "      <td>NaN</td>\n",
       "      <td>NaN</td>\n",
       "      <td>NaN</td>\n",
       "      <td>NaN</td>\n",
       "      <td>NaN</td>\n",
       "      <td>NaN</td>\n",
       "    </tr>\n",
       "    <tr>\n",
       "      <th>4</th>\n",
       "      <td>Sea surface temperature anomalies and cash hol...</td>\n",
       "      <td>https://pureportal.coventry.ac.uk/en/publicati...</td>\n",
       "      <td>Brahmana, R. K.</td>\n",
       "      <td>https://pureportal.coventry.ac.uk/en/persons/r...</td>\n",
       "      <td>Kontesa, M.</td>\n",
       "      <td>None</td>\n",
       "      <td>NaN</td>\n",
       "      <td>NaN</td>\n",
       "      <td>NaN</td>\n",
       "      <td>NaN</td>\n",
       "      <td>NaN</td>\n",
       "      <td>NaN</td>\n",
       "      <td>NaN</td>\n",
       "      <td>NaN</td>\n",
       "      <td>NaN</td>\n",
       "      <td>NaN</td>\n",
       "      <td>NaN</td>\n",
       "      <td>NaN</td>\n",
       "      <td>NaN</td>\n",
       "      <td>NaN</td>\n",
       "    </tr>\n",
       "  </tbody>\n",
       "</table>\n",
       "</div>"
      ],
      "text/plain": [
       "                                         publication  \\\n",
       "0  Competing Institutional Logics and Power Dynam...   \n",
       "1  Corporate Political Activity and Bribery in Af...   \n",
       "2  Does natural resource curse in finance exist i...   \n",
       "3  Performance measurement in urban development: ...   \n",
       "4  Sea surface temperature anomalies and cash hol...   \n",
       "\n",
       "                                    publication_link         author_1  \\\n",
       "0  https://pureportal.coventry.ac.uk/en/publicati...        Abras, A.   \n",
       "1  https://pureportal.coventry.ac.uk/en/publicati...      Aghanya, D.   \n",
       "2  https://pureportal.coventry.ac.uk/en/publicati...     Egbulonu, A.   \n",
       "3  https://pureportal.coventry.ac.uk/en/publicati...       Alsaid, L.   \n",
       "4  https://pureportal.coventry.ac.uk/en/publicati...  Brahmana, R. K.   \n",
       "\n",
       "                                    author_1_profile          author_2  \\\n",
       "0                                               None    Jayasinghe, K.   \n",
       "1  https://pureportal.coventry.ac.uk/en/persons/d...       Liedong, T.   \n",
       "2  https://pureportal.coventry.ac.uk/en/persons/a...  Nurmakhanova, M.   \n",
       "3  https://pureportal.coventry.ac.uk/en/persons/l...     Ambilichu, C.   \n",
       "4  https://pureportal.coventry.ac.uk/en/persons/r...       Kontesa, M.   \n",
       "\n",
       "  author_2_profile      author_3 author_3_profile         author_4  \\\n",
       "0             None           NaN              NaN              NaN   \n",
       "1             None   Jimenez, A.             None      Rajwani, T.   \n",
       "2             None  Elheddad, M.             None  Alfar, A. J. K.   \n",
       "3             None           NaN              NaN              NaN   \n",
       "4             None           NaN              NaN              NaN   \n",
       "\n",
       "   author_4_profile    author_5  author_5_profile author_6  author_6_profile  \\\n",
       "0               NaN         NaN               NaN      NaN               NaN   \n",
       "1               NaN         NaN               NaN      NaN               NaN   \n",
       "2               NaN  Abedin, M.               NaN      NaN               NaN   \n",
       "3               NaN         NaN               NaN      NaN               NaN   \n",
       "4               NaN         NaN               NaN      NaN               NaN   \n",
       "\n",
       "  author_7  author_7_profile author_8  author_8_profile author_9  \\\n",
       "0      NaN               NaN      NaN               NaN      NaN   \n",
       "1      NaN               NaN      NaN               NaN      NaN   \n",
       "2      NaN               NaN      NaN               NaN      NaN   \n",
       "3      NaN               NaN      NaN               NaN      NaN   \n",
       "4      NaN               NaN      NaN               NaN      NaN   \n",
       "\n",
       "   author_9_profile  \n",
       "0               NaN  \n",
       "1               NaN  \n",
       "2               NaN  \n",
       "3               NaN  \n",
       "4               NaN  "
      ]
     },
     "execution_count": 3,
     "metadata": {},
     "output_type": "execute_result"
    }
   ],
   "source": [
    "df = convert_to_dataframe(path)\n",
    "\n",
    "df.head()"
   ]
  },
  {
   "attachments": {},
   "cell_type": "markdown",
   "metadata": {},
   "source": [
    "Save to database"
   ]
  },
  {
   "cell_type": "code",
   "execution_count": null,
   "metadata": {},
   "outputs": [],
   "source": [
    "# create connection\n",
    "connection = create_connection(\n",
    "    user=\"\",\n",
    "    password=\"\",\n",
    "    database=\"\",\n",
    "    host=\"\",\n",
    "    port=\"\"\n",
    ")"
   ]
  },
  {
   "cell_type": "code",
   "execution_count": null,
   "metadata": {},
   "outputs": [],
   "source": [
    "# save dataframe to database\n",
    "dataframe_to_database(connection, df, \"publication\")"
   ]
  },
  {
   "cell_type": "code",
   "execution_count": null,
   "metadata": {},
   "outputs": [],
   "source": [
    "# close connection\n",
    "shutdown_connection(connection)"
   ]
  }
 ],
 "metadata": {
  "kernelspec": {
   "display_name": "base",
   "language": "python",
   "name": "python3"
  },
  "language_info": {
   "codemirror_mode": {
    "name": "ipython",
    "version": 3
   },
   "file_extension": ".py",
   "mimetype": "text/x-python",
   "name": "python",
   "nbconvert_exporter": "python",
   "pygments_lexer": "ipython3",
   "version": "3.9.7"
  },
  "orig_nbformat": 4,
  "vscode": {
   "interpreter": {
    "hash": "e6b9563c2d5f39a0f14e96863a92c28173db3617b8e00a6322a2465c297cc121"
   }
  }
 },
 "nbformat": 4,
 "nbformat_minor": 2
}
